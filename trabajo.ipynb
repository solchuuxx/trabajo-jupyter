{
 "cells": [
  {
   "cell_type": "markdown",
   "metadata": {},
   "source": [
    "## Ejercicio Algoritmos"
   ]
  },
  {
   "cell_type": "markdown",
   "metadata": {},
   "source": [
    "El ejercicio pedía realizar una función que reciba como parámetro 2 cadenas y que las compares lexicograficamente, retornando \"-1\" si la primer cadena es menor que la segunda\", retornando \"1\" si la segunda cadena es menor que la primera y en el caso de que las cadenas sean iguales retornar \"0\""
   ]
  },
  {
   "cell_type": "markdown",
   "metadata": {},
   "source": [
    "Variables globales:"
   ]
  },
  {
   "cell_type": "code",
   "execution_count": 6,
   "metadata": {},
   "outputs": [],
   "source": [
    "cadena1 = \"abc\"\n",
    "cadena2 = \"abd\""
   ]
  },
  {
   "cell_type": "markdown",
   "metadata": {},
   "source": [
    "Función para comparar cadenas lexicograficas: "
   ]
  },
  {
   "cell_type": "code",
   "execution_count": 17,
   "metadata": {},
   "outputs": [],
   "source": [
    "def comparar_cadenas_lexicograficas():\n",
    "    if cadena1 < cadena2:\n",
    "        #Si la primera cadena es menor que la segunda, retornar \"-1\".\n",
    "        return \"-1\"\n",
    "    elif cadena1 > cadena2:\n",
    "        #Si la segunda cadena es menor que la primera, retornar \"1\".\n",
    "        return \"1\"\n",
    "    else:\n",
    "        #Si las cadenas son iguales, retornar \"0\".\n",
    "        return \"0\""
   ]
  },
  {
   "cell_type": "markdown",
   "metadata": {},
   "source": [
    "Imprimir resultado:"
   ]
  },
  {
   "cell_type": "code",
   "execution_count": 5,
   "metadata": {},
   "outputs": [
    {
     "ename": "NameError",
     "evalue": "name 'comparar_cadenas_lexicograficas' is not defined",
     "output_type": "error",
     "traceback": [
      "\u001b[1;31m---------------------------------------------------------------------------\u001b[0m",
      "\u001b[1;31mNameError\u001b[0m                                 Traceback (most recent call last)",
      "Cell \u001b[1;32mIn[5], line 1\u001b[0m\n\u001b[1;32m----> 1\u001b[0m \u001b[38;5;28mprint\u001b[39m(\u001b[43mcomparar_cadenas_lexicograficas\u001b[49m())\n",
      "\u001b[1;31mNameError\u001b[0m: name 'comparar_cadenas_lexicograficas' is not defined"
     ]
    }
   ],
   "source": [
    "print(comparar_cadenas_lexicograficas())"
   ]
  },
  {
   "cell_type": "markdown",
   "metadata": {},
   "source": [
    "## Ejercicio Pandas"
   ]
  },
  {
   "cell_type": "markdown",
   "metadata": {},
   "source": [
    "Este ejercicio pedía realizar un análisis básico sobre las ventas en base a los meses que se proporcionaba."
   ]
  },
  {
   "cell_type": "markdown",
   "metadata": {},
   "source": [
    "En primer paso, instalar las librerias a utilizar"
   ]
  },
  {
   "cell_type": "code",
   "execution_count": 1,
   "metadata": {},
   "outputs": [],
   "source": [
    "import pandas as pd"
   ]
  },
  {
   "cell_type": "markdown",
   "metadata": {},
   "source": [
    "#### Primer ejercicio:"
   ]
  },
  {
   "cell_type": "markdown",
   "metadata": {},
   "source": [
    "Agrupa los datos por trimestre y calcula el total de ventas para cada trimestre."
   ]
  },
  {
   "cell_type": "code",
   "execution_count": 5,
   "metadata": {},
   "outputs": [
    {
     "name": "stdout",
     "output_type": "stream",
     "text": [
      "\n",
      "Total ventas trimestral:\n",
      " trimestre\n",
      "1     55000\n",
      "2     72000\n",
      "3     90000\n",
      "4    100000\n",
      "5    117000\n",
      "6    132000\n",
      "7    150000\n",
      "8    164000\n",
      "Name: total_ventas, dtype: int64\n"
     ]
    }
   ],
   "source": [
    "#Datos proporcionados por el enunciado:\n",
    "ventas_mensuales = [\n",
    "{\"mes\": \"Enero\", \"total_ventas\": 15000, \"año\": 2023},\n",
    "{\"mes\": \"Febrero\", \"total_ventas\": 18000, \"año\": 2023},\n",
    "{\"mes\": \"Marzo\", \"total_ventas\": 22000, \"año\": 2023},\n",
    "{\"mes\": \"Abril\", \"total_ventas\": 19000, \"año\": 2023},\n",
    "{\"mes\": \"Mayo\", \"total_ventas\": 25000, \"año\": 2023},\n",
    "{\"mes\": \"Junio\", \"total_ventas\": 28000, \"año\": 2023},\n",
    "{\"mes\": \"Julio\", \"total_ventas\": 32000, \"año\": 2023},\n",
    "{\"mes\": \"Agosto\", \"total_ventas\": 30000, \"año\": 2023},\n",
    "{\"mes\": \"Septiembre\", \"total_ventas\": 28000, \"año\": 2023},\n",
    "{\"mes\": \"Octubre\", \"total_ventas\": 31000, \"año\": 2023},\n",
    "{\"mes\": \"Noviembre\", \"total_ventas\": 33000, \"año\": 2023},\n",
    "{\"mes\": \"Diciembre\", \"total_ventas\": 36000, \"año\": 2023},\n",
    "{\"mes\": \"Enero 2\", \"total_ventas\": 37000, \"año\": 2024},\n",
    "{\"mes\": \"Febrero 2\", \"total_ventas\": 38000, \"año\": 2024},\n",
    "{\"mes\": \"Marzo 2\", \"total_ventas\": 42000, \"año\": 2024},\n",
    "{\"mes\": \"Abril 2\", \"total_ventas\": 39000, \"año\": 2024},\n",
    "{\"mes\": \"Mayo 2\", \"total_ventas\": 45000, \"año\": 2024},\n",
    "{\"mes\": \"Junio 2\", \"total_ventas\": 48000, \"año\": 2024},\n",
    "{\"mes\": \"Julio 2\", \"total_ventas\": 52000, \"año\": 2024},\n",
    "{\"mes\": \"Agosto 2\", \"total_ventas\": 50000, \"año\": 2024},\n",
    "{\"mes\": \"Septiembre 2\", \"total_ventas\": 48000, \"año\": 2024},\n",
    "{\"mes\": \"Octubre 2\", \"total_ventas\": 51000, \"año\": 2024},\n",
    "{\"mes\": \"Noviembre 2\", \"total_ventas\": 55000, \"año\": 2024},\n",
    "{\"mes\": \"Diciembre 2\", \"total_ventas\": 58000, \"año\": 2024},\n",
    "]\n",
    "\n",
    "#Para agrupar los datos por trimestre, creamos una nueva variable diccionario que mapea el nombre de cada mes a un número de trimestre.\n",
    "#Con esta variable podemos decir que están agrupados los meses en periodos de 3 meses (trimestre).\n",
    "mes_trimestre = {\"Enero\": 1, \"Febrero\": 1, \"Marzo\": 1,\n",
    "    \"Abril\": 2, \"Mayo\": 2, \"Junio\": 2,\n",
    "    \"Julio\": 3, \"Agosto\": 3, \"Septiembre\": 3,\n",
    "    \"Octubre\": 4, \"Noviembre\": 4, \"Diciembre\": 4,\n",
    "    \"Enero 2\": 5, \"Febrero 2\": 5, \"Marzo 2\": 5,\n",
    "    \"Abril 2\": 6, \"Mayo 2\": 6, \"Junio 2\": 6,\n",
    "    \"Julio 2\": 7, \"Agosto 2\": 7, \"Septiembre 2\": 7,\n",
    "    \"Octubre 2\": 8, \"Noviembre 2\": 8, \"Diciembre 2\": 8\n",
    "\n",
    "}\n",
    "\n",
    "#Luego calculamos el total de ventas para cada trimestre:\n",
    "#Crea un dataframe de pandas a partir de una lista de diccionarios\n",
    "df = pd.DataFrame(ventas_mensuales)\n",
    "\n",
    "#Nueva columna creada llamada \"trimestre\". Para llenar esta columna se utiliza la función map para integrar cada mes a su correspondiente trimestre \n",
    "df[\"trimestre\"] = df[\"mes\"].map(mes_trimestre)\n",
    "#Agrupa la columna \"trimestre\" y luego suma los valores de \"total_ventas\" para cada grupo.\n",
    "trimestral = df.groupby(\"trimestre\")[\"total_ventas\"].sum()\n",
    "\n",
    "print(\"\\nTotal ventas trimestral:\\n\", trimestral)"
   ]
  },
  {
   "cell_type": "markdown",
   "metadata": {},
   "source": [
    "#### Segundo ejercicio:"
   ]
  },
  {
   "cell_type": "markdown",
   "metadata": {},
   "source": [
    "Filtrar y mostrar solo los meses donde las ventas superen 20000."
   ]
  },
  {
   "cell_type": "code",
   "execution_count": 4,
   "metadata": {},
   "outputs": [
    {
     "name": "stdout",
     "output_type": "stream",
     "text": [
      "\n",
      "Meses en que las ventas superan 20000:\n",
      "              mes  total_ventas   año  trimestre\n",
      "2          Marzo         22000  2023          1\n",
      "4           Mayo         25000  2023          2\n",
      "5          Junio         28000  2023          2\n",
      "6          Julio         32000  2023          3\n",
      "7         Agosto         30000  2023          3\n",
      "8     Septiembre         28000  2023          3\n",
      "9        Octubre         31000  2023          4\n",
      "10     Noviembre         33000  2023          4\n",
      "11     Diciembre         36000  2023          4\n",
      "12       Enero 2         37000  2024          5\n",
      "13     Febrero 2         38000  2024          5\n",
      "14       Marzo 2         42000  2024          5\n",
      "15       Abril 2         39000  2024          6\n",
      "16        Mayo 2         45000  2024          6\n",
      "17       Junio 2         48000  2024          6\n",
      "18       Julio 2         52000  2024          7\n",
      "19      Agosto 2         50000  2024          7\n",
      "20  Septiembre 2         48000  2024          7\n",
      "21     Octubre 2         51000  2024          8\n",
      "22   Noviembre 2         55000  2024          8\n",
      "23   Diciembre 2         58000  2024          8\n"
     ]
    }
   ],
   "source": [
    "#En este código se utiliza una tecnica para filtrar booleanos, y seleccionar solo las filas del DataFrame donde el valor de la columna sea mayor a 20000\n",
    "ventas = df[df[\"total_ventas\"] > 20000]\n",
    "\n",
    "print(\"\\nMeses en que las ventas superan 20000:\\n\", ventas)"
   ]
  },
  {
   "cell_type": "markdown",
   "metadata": {},
   "source": [
    "#### Tercer ejercicio:"
   ]
  },
  {
   "cell_type": "markdown",
   "metadata": {},
   "source": [
    "Encontrar el mes con el mayor volumen de ventas y mostrar esta información."
   ]
  },
  {
   "cell_type": "code",
   "execution_count": 6,
   "metadata": {},
   "outputs": [
    {
     "name": "stdout",
     "output_type": "stream",
     "text": [
      "\n",
      "Mes con mayor volumen de ventas:\n",
      " Diciembre 2\n"
     ]
    }
   ],
   "source": [
    "#En este codigo, se está buscando el mes con las ventas más altas en el DataFrame y almacenando el nombre de ese mes en la variable mayor_mes_ventas.\n",
    "mayor_mes_ventas = df[\"mes\"][df[\"total_ventas\"].idxmax()]\n",
    "\n",
    "print(\"\\nMes con mayor volumen de ventas:\\n\", mayor_mes_ventas)"
   ]
  },
  {
   "cell_type": "markdown",
   "metadata": {},
   "source": [
    "#### Cuarto ejercicio:"
   ]
  },
  {
   "cell_type": "markdown",
   "metadata": {},
   "source": [
    "Calcular el promedio de ventas mensuales y mostrar esta información."
   ]
  },
  {
   "cell_type": "code",
   "execution_count": null,
   "metadata": {},
   "outputs": [],
   "source": [
    "#En este codigo se está está calculando el promedio de las ventas mensuales y almacenando ese valor en la variable promedio_ventas.\n",
    "promedio_ventas = df['total_ventas'].mean()\n",
    "\n",
    "print(\"\\nPromedio ventas mensuales:\\n\", promedio_ventas)"
   ]
  },
  {
   "cell_type": "markdown",
   "metadata": {},
   "source": [
    "#### Quinto ejercicio:"
   ]
  },
  {
   "cell_type": "markdown",
   "metadata": {},
   "source": [
    "Crea un DataFrame que incluya dos columnas una para los meses y otra para el total de ventas de cada mes."
   ]
  },
  {
   "cell_type": "code",
   "execution_count": 7,
   "metadata": {},
   "outputs": [
    {
     "name": "stdout",
     "output_type": "stream",
     "text": [
      "\n",
      "DataFrame con los meses y el total de ventas:\n",
      "              mes  total_ventas\n",
      "0          Enero         15000\n",
      "1        Febrero         18000\n",
      "2          Marzo         22000\n",
      "3          Abril         19000\n",
      "4           Mayo         25000\n",
      "5          Junio         28000\n",
      "6          Julio         32000\n",
      "7         Agosto         30000\n",
      "8     Septiembre         28000\n",
      "9        Octubre         31000\n",
      "10     Noviembre         33000\n",
      "11     Diciembre         36000\n",
      "12       Enero 2         37000\n",
      "13     Febrero 2         38000\n",
      "14       Marzo 2         42000\n",
      "15       Abril 2         39000\n",
      "16        Mayo 2         45000\n",
      "17       Junio 2         48000\n",
      "18       Julio 2         52000\n",
      "19      Agosto 2         50000\n",
      "20  Septiembre 2         48000\n",
      "21     Octubre 2         51000\n",
      "22   Noviembre 2         55000\n",
      "23   Diciembre 2         58000\n"
     ]
    }
   ],
   "source": [
    "print(\"\\nDataFrame con los meses y el total de ventas:\\n\", df[['mes', 'total_ventas']])"
   ]
  },
  {
   "cell_type": "markdown",
   "metadata": {},
   "source": [
    "## Ejercicio Matplotlib"
   ]
  },
  {
   "cell_type": "markdown",
   "metadata": {},
   "source": [
    "Este ejercicio pedía realizar un gráfico de lineas en base al DataFrame creado, el eje x presentaría a los meses y el eje y al total de ventas de cada mes."
   ]
  },
  {
   "cell_type": "markdown",
   "metadata": {},
   "source": [
    "En primer paso, es necesario importar la libreria de Matplotlib:"
   ]
  },
  {
   "cell_type": "code",
   "execution_count": 14,
   "metadata": {},
   "outputs": [],
   "source": [
    "import matplotlib.pyplot as plt"
   ]
  },
  {
   "cell_type": "markdown",
   "metadata": {},
   "source": [
    "Luego procedemos a realizar el ejercicio pedido:"
   ]
  },
  {
   "cell_type": "code",
   "execution_count": 17,
   "metadata": {},
   "outputs": [
    {
     "data": {
      "image/png": "[encoded data removed]",
      "text/plain": [
       "<Figure size 640x480 with 1 Axes>"
      ]
     },
     "metadata": {},
     "output_type": "display_data"
    }
   ],
   "source": [
    "plt.plot(df[\"trimestre\"], df[\"total_ventas\"])\n",
    "plt.title(\"Tendencia de ventas\")\n",
    "plt.show()"
   ]
  }
 ],
 "metadata": {
  "kernelspec": {
   "display_name": "env",
   "language": "python",
   "name": "python3"
  },
  "language_info": {
   "codemirror_mode": {
    "name": "ipython",
    "version": 3
   },
   "file_extension": ".py",
   "mimetype": "text/x-python",
   "name": "python",
   "nbconvert_exporter": "python",
   "pygments_lexer": "ipython3",
   "version": "3.12.2"
  }
 },
 "nbformat": 4,
 "nbformat_minor": 2
}
